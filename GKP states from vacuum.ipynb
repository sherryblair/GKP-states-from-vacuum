{
 "cells": [
  {
   "cell_type": "code",
   "execution_count": 1,
   "id": "7891ca1e",
   "metadata": {},
   "outputs": [],
   "source": [
    "!pip install -q pipreqsnb \n",
    "# this is needed to create the requirements.txt file"
   ]
  },
  {
   "cell_type": "code",
   "execution_count": 2,
   "id": "151fe5d2",
   "metadata": {},
   "outputs": [
    {
     "name": "stdout",
     "output_type": "stream",
     "text": [
      "pipreqs  --ignore bin,etc,include,lib,lib64 .\n",
      "INFO: Not scanning for jupyter notebooks.\n",
      "WARNING: requirements.txt already exists, use --force to overwrite it\n"
     ]
    }
   ],
   "source": [
    "!pipreqsnb . --ignore bin,etc,include,lib,lib64 #--force\n",
    "# this command creates the requirements.txt file"
   ]
  },
  {
   "cell_type": "code",
   "execution_count": 3,
   "id": "675298a9",
   "metadata": {},
   "outputs": [],
   "source": [
    "!pip install -q -r requirements.txt \n",
    "# this command installs the dependencies contained in the requirements.txt file"
   ]
  },
  {
   "cell_type": "markdown",
   "id": "68061b5a",
   "metadata": {},
   "source": [
    "# GKP states from vacuum\n",
    "\n",
    "## Goal\n",
    "\n",
    "We want to find circuits that map the vacuum to an approximate GKP state.\n",
    "\n",
    "## Strategy\n",
    "\n",
    "We can turn the optimization problem around: instead of starting from the vacuum and trying to unitarily drive it to the target state, we can start from the target state and try to find the unitary transformation $U(\\vec{\\lambda})$ that maximizes\n",
    "\n",
    "$$\\left|\\left<0\\right| U(\\vec{\\lambda})\\left|\\Psi_t \\right>\\right|^2.$$ \n",
    "\n",
    " \n",
    "Our generated state, \n",
    "\n",
    "$$ \\left|\\Psi_g \\right> = U(\\vec{\\lambda})^\\dagger\\left|0 \\right> ,$$ \n",
    "\n",
    "is a good approximation of the target state when the fidelity,\n",
    "\n",
    "$$ F = \\left|\\left<\\Psi_g |\\Psi_t \\right>\\right|^2 ,$$\n",
    "\n",
    "is maximized."
   ]
  },
  {
   "cell_type": "markdown",
   "id": "f66df4ad",
   "metadata": {},
   "source": [
    "## Code"
   ]
  },
  {
   "cell_type": "code",
   "execution_count": 4,
   "id": "4d76fd0d",
   "metadata": {},
   "outputs": [],
   "source": [
    "# Importing necessary libraries\n",
    "import strawberryfields as sf\n",
    "sf.hbar = 1 # Setting convention for hbar\n",
    "import numpy as np\n",
    "import scipy\n",
    "import matplotlib.pyplot as plt\n",
    "from joblib import Parallel, delayed"
   ]
  },
  {
   "cell_type": "code",
   "execution_count": 5,
   "id": "f2cb5b73",
   "metadata": {},
   "outputs": [],
   "source": [
    "# Setting parameters\n",
    "\n",
    "cutoff = 10 # Truncation of the Fock space\n",
    "delta = 0.5 # Inverse width of Gaussian envelope\n",
    "\n",
    "epsilon = delta**2 \n",
    "# Strawberry Fields parameter epsilon which defines the Gaussian envelope in sf.ops.GKP\n",
    "\n",
    "num_blocks = 6 # Number of repeated blocks of gates in circuit\n",
    "num_trials = 2 # Number of repeated optimization trials\n",
    "n_jobs = 2 # For parallelisation - best if this is a factor of num_trials\n"
   ]
  },
  {
   "cell_type": "code",
   "execution_count": 6,
   "id": "299f64aa",
   "metadata": {},
   "outputs": [],
   "source": [
    "# Define a function for the action of the circuit on the input GKP state\n",
    "\n",
    "def cooled_squared_vac_overlap(params, epsilon=epsilon, state = [0,0]): # note: state = [0,0] is |0>, [np.pi,0] is |1>\n",
    "    '''\n",
    "    Return the squared overlap with vacuum of the state resulting from application of \n",
    "    the parametrized circuit to the (given) approximate GKP state of given epsilon.\n",
    "\n",
    "    The parametrized circuit consists of len(params)//4 blocks composed of:\n",
    "        - 2 orthogonal displacements\n",
    "        - one Kerr gate\n",
    "        - one squeezing gate (with real squeezing parameter).\n",
    "\n",
    "    The number of blocks is guessed from the size of the input parameters, assumed to be a multiple of 4.\n",
    "    '''\n",
    "    # Initialize Strawberry Fields program\n",
    "    prog = sf.Program(1) # Photonic circuit with one mode\n",
    "    with prog.context as q: \n",
    "        # Initialize state to be cooled down (target)\n",
    "        sf.ops.GKP(epsilon=epsilon, state=state) | q \n",
    "\n",
    "        # Apply gates according to input parameters\n",
    "        # Parameters are real numbers\n",
    "        # The number of parameters is always a multiple of 4, since there are 4 parameters per block\n",
    "        for j in range(len(params)//4):\n",
    "            sf.ops.Xgate(params[4*j]) | q\n",
    "            sf.ops.Zgate(params[4*j+1]) | q\n",
    "            sf.ops.Kgate(params[4*j+2]) | q\n",
    "            sf.ops.Sgate(params[4*j+3]/10.) | q\n",
    "            # Squeezing is more sensitive to parameter shifts, so we compensate by dividing by a factor of 10\n",
    "\n",
    "    # Initialize engine, selecting Fock backend\n",
    "    eng = sf.Engine(\"fock\", backend_options={\"cutoff_dim\": cutoff}) \n",
    "\n",
    "    # Execute program on engine\n",
    "    cooled_state = eng.run(prog,shots=1).state # output state of parametrized circuit\n",
    "    \n",
    "    # Return fidelity with vacuum (negative for minimization later)\n",
    "    return -cooled_state.fock_prob([0])"
   ]
  },
  {
   "cell_type": "code",
   "execution_count": 7,
   "id": "6612f80a",
   "metadata": {},
   "outputs": [
    {
     "name": "stdout",
     "output_type": "stream",
     "text": [
      "Fidelities =  [0.9273175984778037 0.9273334804930186]\n",
      "Best fidelity =  0.9273334804930186\n",
      "Best gate parameters =  [ 7.96668292e-02  2.64687340e-07 -2.01305211e-08 -4.28402811e-01\n",
      "  6.64296951e-02 -4.40846762e-07  2.12030530e-08 -4.86645676e-01\n",
      " -2.79795427e-01  1.48058119e-07 -1.34391850e-08 -5.39433007e-01\n",
      " -5.24908951e-02 -2.09807752e-07 -1.10535094e-09 -7.09595149e-01\n",
      "  3.58816518e-01  1.50049240e-07 -9.99854604e-09 -1.01959552e+00\n",
      " -1.79516911e-01  4.21355374e-08  2.73859284e-08 -4.65844510e+00]\n"
     ]
    }
   ],
   "source": [
    "# Parallel trials for optimizing the gate parameters to maximize fidelity:\n",
    "\n",
    "def OptimizeCircuit(trial_num):\n",
    "    \"\"\"\n",
    "    Optimize gate parameters and maximize fidelity.\n",
    "\n",
    "    Parameters:\n",
    "    - trial_num (int): The index of the current trial.\n",
    "\n",
    "    Returns:\n",
    "    tuple: A tuple containing the fidelity with vacuum and the optimized gate parameters.\n",
    "\n",
    "    Note:\n",
    "    - The gate parameters are initialized with random values between 0 and 0.1.\n",
    "    - The BFGS method is employed for optimization with a specified tolerance.\n",
    "    \"\"\"\n",
    "    sf.hbar = 1\n",
    "    result = scipy.optimize.minimize(cooled_squared_vac_overlap, 0.1*np.random.rand(num_blocks*4), method=\"BFGS\", tol=1e-7)\n",
    "    return -result['fun'], result['x'] \n",
    "    # 'fun' is the function being minimized, i.e. negative of fidelity\n",
    "    # Extra minus sign ensures that the positive fidelity is returned\n",
    "    # 'x' is the gate parameters\n",
    "\n",
    "# Perform parallel optimization trials\n",
    "FidsSols = Parallel(n_jobs=n_jobs)(delayed(OptimizeCircuit)(trial_num) for trial_num in range(num_trials))\n",
    "FSarray=np.array(FidsSols,dtype=object) # Fidelities and solutions (gate parameters in circuit)\n",
    "Fids=FSarray[:,0]\n",
    "print('Fidelities = ',Fids) # Fidelities\n",
    "bestFid=np.max(Fids) # Highest fidelity\n",
    "print('Best fidelity = ',bestFid)\n",
    "IndexOfMaxFid=np.argmax(Fids)\n",
    "Sols=FSarray[:,1] # Gate parameters\n",
    "bestSolution=Sols[IndexOfMaxFid]\n",
    "# Best gate parameters, i.e. those that lead to the highest fidelity:\n",
    "print('Best gate parameters = ',bestSolution) \n",
    "# Save the best parameters\n",
    "np.savetxt('BestSol.out',bestSolution)"
   ]
  },
  {
   "cell_type": "markdown",
   "id": "41ff2fb7",
   "metadata": {},
   "source": [
    "### Check that the circuit prepares a GKP state\n",
    "\n",
    "We now prepare the states from vacuum, by applying the adjoints of the optimized circuits found above. We check their fidelity with the target GKP state.  \n",
    " "
   ]
  },
  {
   "cell_type": "code",
   "execution_count": 8,
   "id": "e3730a75",
   "metadata": {},
   "outputs": [
    {
     "name": "stdout",
     "output_type": "stream",
     "text": [
      "[ 8.57088484e-01+0.j  1.34940381e-21+0.j -3.33213282e-01+0.j\n",
      "  2.66975865e-19+0.j  3.08244043e-01+0.j -7.22325355e-19+0.j\n",
      "  9.28254283e-02+0.j  3.03719078e-18+0.j  2.25249392e-01+0.j\n",
      " -1.40458198e-18+0.j]\n"
     ]
    }
   ],
   "source": [
    "def prepare_state(params):\n",
    "    \"\"\"\n",
    "    Return the quantum state resulting from the application of the parametrized circuit *in reverse* to the vacuum.\n",
    "\n",
    "    Parameters:\n",
    "    - params (array): An array of real numbers representing the parameters for the gates of the circuit.\n",
    "\n",
    "    Returns:\n",
    "    BaseFockState: The output quantum state, in the Fock basis.\n",
    "    \"\"\"\n",
    "    progParamState = sf.Program(1) # Photonic circuit with one mode\n",
    "    with progParamState.context as q: \n",
    "        sf.ops.Vacuum() | q # Initialize vacuum\n",
    "        rev_pars = np.flip(params) # Reverse the order of the gate parameters\n",
    "        for j in range(len(params)//4): # Circuit in reverse:\n",
    "            sf.ops.Sgate(-rev_pars[4*j]/10.) | q \n",
    "            sf.ops.Kgate(-rev_pars[4*j+1]) | q\n",
    "            sf.ops.Zgate(-rev_pars[4*j+2]) | q\n",
    "            sf.ops.Xgate(-rev_pars[4*j+3]) | q\n",
    "    \n",
    "    # Initialize engine, selecting Fock backend\n",
    "    eng = sf.Engine(\"fock\", backend_options={\"cutoff_dim\": cutoff})\n",
    "\n",
    "    # Output state of parametrized circuit\n",
    "    prepared_state = eng.run(progParamState,shots=1).state \n",
    "\n",
    "    return prepared_state\n",
    "\n",
    "# A program to prepare the target state, so that we can compare with our generated state\n",
    "progTarget= sf.Program(1) # Photonic circuit with one mode\n",
    "with progTarget.context as q: \n",
    "    # Initialize target state\n",
    "    # NB this has to match the state used in the previous optimization\n",
    "    sf.ops.GKP( epsilon=epsilon, state=[0,0]) | q \n",
    "    \n",
    "eng = sf.Engine(\"fock\", backend_options={\"cutoff_dim\": cutoff}) # Initialize engine, selecting Fock backend\n",
    "target_GKP = eng.run(progTarget,shots=1).state.ket() # Our target state\n",
    "np.savetxt('TargetStateKet.out', target_GKP) # Save the Fock amplitudes of the target state\n",
    "print(target_GKP)"
   ]
  },
  {
   "cell_type": "code",
   "execution_count": 9,
   "id": "ed49d995",
   "metadata": {},
   "outputs": [
    {
     "name": "stdout",
     "output_type": "stream",
     "text": [
      "Fidelity (abs squared overlap) with 6 parametrized blocks: 0.9273334804930186\n",
      "The fidelity above should match (or be very close to) the best fidelity from optimization: 0.9273334804930186\n",
      "This should be one if the state we prepared is normalized: (0.9986691507227454+0j)\n",
      "This should be one if the target GKP state is normalized: (1+0j)\n"
     ]
    }
   ],
   "source": [
    "# Reset engine \n",
    "if eng.run_progs:\n",
    "    eng.reset()\n",
    "\n",
    "# Use best parameters to prepare generated state from vacuum\n",
    "generated_GKP = prepare_state(bestSolution).ket()\n",
    "np.savetxt('GeneratedStateKet.out',generated_GKP)\n",
    "\n",
    "# Calculate fidelity between generated state and target state\n",
    "fid=np.abs(np.dot(generated_GKP.conj(), target_GKP))**2\n",
    "print(f'Fidelity (abs squared overlap) with {len(bestSolution)//4} parametrized blocks: {fid}')\n",
    "\n",
    "print(f'The fidelity above should match (or be very close to) the best fidelity from optimization: {bestFid}')\n",
    "\n",
    "# Check normalization of target and generated state to ensure no leakage to Fock components higher than the cutoff\n",
    "normgen=np.dot(generated_GKP.conj(), generated_GKP)\n",
    "normtarg=np.dot(target_GKP.conj(), target_GKP)\n",
    "print(f'This should be one if the state we prepared is normalized: {normgen}')\n",
    "print(f'This should be one if the target GKP state is normalized: {normtarg}')"
   ]
  },
  {
   "cell_type": "markdown",
   "id": "e2bd4000",
   "metadata": {},
   "source": [
    "### Wavefunction of target and generated states\n",
    "\n",
    "We find the wavefunction in position, \n",
    "$$\\Psi(q)=\\left< q \\,|\\, \\Psi_g \\right>=\\sum_n \\left< q\\,|\\,n \\right>\\left< n\\,|\\,\\Psi_g \\right>,$$ \n",
    "from the Fock amplitudes of our generated state, $\\left< n\\,|\\,\\Psi_g \\right>$. Here $\\left< q \\,|\\, n \\right>$ are Hermite functions,\n",
    "$$\\left< q \\,|\\, n \\right> = \\frac{e^{-\\frac{1}{2}q^2}H_n(q)}{\\sqrt{n!\\,2^n\\sqrt{\\pi}}} ,$$\n",
    "and $H_n(q)$ are Hermite polynomials.\n"
   ]
  },
  {
   "cell_type": "markdown",
   "id": "e58af212",
   "metadata": {},
   "source": [
    "We calculate $\\frac{1}{\\sqrt{2^n}}$ via recurrence relation:"
   ]
  },
  {
   "cell_type": "code",
   "execution_count": 10,
   "id": "88201190",
   "metadata": {},
   "outputs": [],
   "source": [
    "def f(n):\n",
    "    \"\"\"\n",
    "    Recursively calculates the value of f(n) = 1/sqrt(2**n).\n",
    "\n",
    "    Parameters:\n",
    "    - n (int): The input integer.\n",
    "\n",
    "    Returns:\n",
    "    float: The calculated value of f(n).\n",
    "    \"\"\"\n",
    "    if n==0:\n",
    "        return 1\n",
    "    \n",
    "    else:\n",
    "        return (1/np.sqrt(2))*f(n-1)"
   ]
  },
  {
   "cell_type": "markdown",
   "id": "a57b529c",
   "metadata": {},
   "source": [
    "We can also calculate $\\sqrt{n!}$ recursively, by defining\n",
    "$\\\\\n",
    "g(n)=0 \\;\\; \\text{for} \\;\\; n=0$  \n",
    "$g(n)=\\sum_n \\ln(n) \\;\\; \\text{for} \\;\\; 1\\leq n \\leq \\mathrm{cutoff}$.\n",
    "\n",
    "Then $\\exp(g(n)/2)=\\sqrt{n!}$ ."
   ]
  },
  {
   "cell_type": "code",
   "execution_count": 11,
   "id": "bcd8721f",
   "metadata": {},
   "outputs": [],
   "source": [
    "def g(n):\n",
    "    \"\"\"\n",
    "    Recursively calculates the value of g(n)=ln(n!), so that exp(g(n)/2)=sqrt(n!).\n",
    "\n",
    "    Parameters:\n",
    "    - n (int): The input integer.\n",
    "\n",
    "    Returns:\n",
    "    float: The calculated value of g(n).\n",
    "    \"\"\"\n",
    "    if n==0:    \n",
    "        return 0\n",
    "    \n",
    "    else:\n",
    "        return g(n-1)+np.log(n)"
   ]
  },
  {
   "cell_type": "markdown",
   "id": "c20e26f7",
   "metadata": {},
   "source": [
    "We can then calculate the wavefunction using $f(n)$ and $g(n)$:"
   ]
  },
  {
   "cell_type": "code",
   "execution_count": 12,
   "id": "ee4b6329",
   "metadata": {},
   "outputs": [],
   "source": [
    "def wavefunction(q, ket):\n",
    "    \"\"\"\n",
    "    Compute the wavefunction in position space from the quantum state vector in the Fock basis.\n",
    "\n",
    "    Parameters:\n",
    "    - q (array): An array of position values.\n",
    "    - ket (array): Fock-basis representation of the quantum state.\n",
    "\n",
    "    Returns:\n",
    "    array: Wavefunction in position basis.\n",
    "    \"\"\"\n",
    "    c = ket.shape[0]\n",
    "    coefficients=np.zeros(c,dtype=complex)\n",
    "\n",
    "    # Calculating the coefficients (that depend on n) of each Hermite polynomial\n",
    "    # i.e. coefficients[n] = <n|Psi_g>(n! 2**n)**(-1/2)\n",
    "    for n in range(0,c):\n",
    "        coefficients[n] = ket[n]*f(n)*np.exp(-g(n)/2)\n",
    "\n",
    "    # Calculating the wavefunction, Psi(q):\n",
    "    y = np.exp(-q ** 2 / 2)*np.pi**(-1/4) * np.polynomial.hermite.hermval(q, coefficients)\n",
    "    \n",
    "    return y"
   ]
  },
  {
   "cell_type": "code",
   "execution_count": 13,
   "id": "77f5e773",
   "metadata": {},
   "outputs": [
    {
     "data": {
      "image/png": "[encoded data removed]",
      "text/plain": [
       "<Figure size 640x480 with 1 Axes>"
      ]
     },
     "metadata": {},
     "output_type": "display_data"
    }
   ],
   "source": [
    "# Plot probability distribution of generated and target GKP states\n",
    "\n",
    "qlim=20 # q-axis goes from -qlim to +qlim\n",
    "genGKPwf=wavefunction(q=np.linspace(-qlim,qlim,1000), ket=generated_GKP)\n",
    "targetGKPwf=wavefunction(q=np.linspace(-qlim,qlim,1000), ket=target_GKP)\n",
    "plt.plot(np.linspace(-qlim,qlim,1000),np.real(genGKPwf*genGKPwf.conj()),label='generated',linestyle='dotted',color='b',linewidth=2)\n",
    "plt.plot(np.linspace(-qlim,qlim,1000),np.real(targetGKPwf*targetGKPwf.conj()),label='target',color='r',linewidth=0.8)\n",
    "plt.legend()\n",
    "plt.ylabel(\"$|\\psi(q)|^2$\")\n",
    "plt.xlabel(\"$q$\");\n",
    "#plt.savefig('ProbDists.png', bbox_inches='tight')"
   ]
  },
  {
   "cell_type": "markdown",
   "id": "1e435166",
   "metadata": {},
   "source": [
    "### Glancy-Knill error probability\n",
    "\n",
    "Calculating the probability of no uncorrectable errors, $P(\\text{no error})$, \\\n",
    "from Glancy & Knill (https://journals.aps.org/pra/abstract/10.1103/PhysRevA.73.012325), \\\n",
    "using Eq.(71) from Tzitrin et al. (https://journals.aps.org/pra/abstract/10.1103/PhysRevA.101.032315).\n",
    "\n",
    "$$P(\\text{no error})=\\frac{1}{3}\\sum_{s,t}\\text{sinc}\\left(\\frac{t}{3}\\right)\\int_{\\sqrt{\\pi}\\left(2s-\\frac{1}{6}\\right)}^{\\sqrt{\\pi}\\left(2s+\\frac{1}{6}\\right)}du\\, \\Psi^*(2t\\sqrt{\\pi}+u)\\Psi(u),$$\n",
    "\n",
    "where $\\text{sinc}$ is the normalized function, $\\text{sinc}(x)=(\\sin{\\pi x})/(\\pi x)$. \n",
    "\n",
    "The error probability is then simply $P(\\text{error})=1-P(\\text{no error})$."
   ]
  },
  {
   "cell_type": "code",
   "execution_count": 14,
   "id": "7427dd54",
   "metadata": {},
   "outputs": [
    {
     "name": "stdout",
     "output_type": "stream",
     "text": [
      "P(error)= (0.7779431674443674+1.0339757656912846e-24j)\n"
     ]
    }
   ],
   "source": [
    "n=30 # No. of strips in integration\n",
    "size=30 # Infinite sums over  s and t are truncated to go from -size to +size\n",
    "\n",
    "# Matrix to store values of P_{no error} for different values of s and t, before we take the sum\n",
    "beforesum = np.zeros((2*size,2*size),dtype=complex) \n",
    "    \n",
    "for t in range(-size,size):\n",
    "    for s in range(-size,size):\n",
    "        x=np.linspace((np.sqrt(np.pi))*(2*s-1/6),(np.sqrt(np.pi))*(2*s+1/6),n) # Position axis\n",
    "        \n",
    "        # Filling the matrix\n",
    "        beforesum[t+size,s+size] =(1/3)*np.sinc(t/3)*np.trapz(np.conj \\\n",
    "        (wavefunction(x+2*t*np.sqrt(np.pi),generated_GKP))*wavefunction(x,generated_GKP),x)\n",
    "            \n",
    "p_noerror=np.sum(np.sum(beforesum,axis=0),axis=0) # Summing over s and t\n",
    "p_error=1-p_noerror # Calculate error probability from no-error probability\n",
    "print(\"P(error)=\",p_error)"
   ]
  },
  {
   "cell_type": "markdown",
   "id": "3e7702d8",
   "metadata": {},
   "source": [
    "To achieve lower error probabilities, we need to decrease delta whilst maintaining a high fidelity."
   ]
  }
 ],
 "metadata": {
  "kernelspec": {
   "display_name": "Python 3 (ipykernel)",
   "language": "python",
   "name": "python3"
  },
  "language_info": {
   "codemirror_mode": {
    "name": "ipython",
    "version": 3
   },
   "file_extension": ".py",
   "mimetype": "text/x-python",
   "name": "python",
   "nbconvert_exporter": "python",
   "pygments_lexer": "ipython3",
   "version": "3.9.19"
  }
 },
 "nbformat": 4,
 "nbformat_minor": 5
}
