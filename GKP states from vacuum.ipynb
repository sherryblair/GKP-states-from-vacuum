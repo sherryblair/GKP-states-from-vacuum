{
 "cells": [
  {
   "cell_type": "code",
   "execution_count": 5,
   "id": "7891ca1e",
   "metadata": {},
   "outputs": [
    {
     "name": "stdout",
     "output_type": "stream",
     "text": [
      "Requirement already satisfied: pipreqsnb in /Users/sherryblair/opt/anaconda3/lib/python3.8/site-packages (0.2.4)\n",
      "Requirement already satisfied: pipreqs in /Users/sherryblair/opt/anaconda3/lib/python3.8/site-packages (from pipreqsnb) (0.5.0)\n",
      "Requirement already satisfied: docopt==0.6.2 in /Users/sherryblair/opt/anaconda3/lib/python3.8/site-packages (from pipreqs->pipreqsnb) (0.6.2)\n",
      "Requirement already satisfied: ipython==8.12.3 in /Users/sherryblair/opt/anaconda3/lib/python3.8/site-packages (from pipreqs->pipreqsnb) (8.12.3)\n",
      "Requirement already satisfied: nbconvert<8.0.0,>=7.11.0 in /Users/sherryblair/opt/anaconda3/lib/python3.8/site-packages (from pipreqs->pipreqsnb) (7.16.3)\n",
      "Requirement already satisfied: yarg==0.1.9 in /Users/sherryblair/opt/anaconda3/lib/python3.8/site-packages (from pipreqs->pipreqsnb) (0.1.9)\n",
      "Requirement already satisfied: backcall in /Users/sherryblair/opt/anaconda3/lib/python3.8/site-packages (from ipython==8.12.3->pipreqs->pipreqsnb) (0.2.0)\n",
      "Requirement already satisfied: decorator in /Users/sherryblair/opt/anaconda3/lib/python3.8/site-packages (from ipython==8.12.3->pipreqs->pipreqsnb) (5.1.1)\n",
      "Requirement already satisfied: jedi>=0.16 in /Users/sherryblair/opt/anaconda3/lib/python3.8/site-packages (from ipython==8.12.3->pipreqs->pipreqsnb) (0.17.2)\n",
      "Requirement already satisfied: matplotlib-inline in /Users/sherryblair/opt/anaconda3/lib/python3.8/site-packages (from ipython==8.12.3->pipreqs->pipreqsnb) (0.1.6)\n",
      "Requirement already satisfied: pickleshare in /Users/sherryblair/opt/anaconda3/lib/python3.8/site-packages (from ipython==8.12.3->pipreqs->pipreqsnb) (0.7.5)\n",
      "Requirement already satisfied: prompt-toolkit!=3.0.37,<3.1.0,>=3.0.30 in /Users/sherryblair/opt/anaconda3/lib/python3.8/site-packages (from ipython==8.12.3->pipreqs->pipreqsnb) (3.0.36)\n",
      "Requirement already satisfied: pygments>=2.4.0 in /Users/sherryblair/opt/anaconda3/lib/python3.8/site-packages (from ipython==8.12.3->pipreqs->pipreqsnb) (2.15.1)\n",
      "Requirement already satisfied: stack-data in /Users/sherryblair/opt/anaconda3/lib/python3.8/site-packages (from ipython==8.12.3->pipreqs->pipreqsnb) (0.2.0)\n",
      "Requirement already satisfied: traitlets>=5 in /Users/sherryblair/opt/anaconda3/lib/python3.8/site-packages (from ipython==8.12.3->pipreqs->pipreqsnb) (5.7.1)\n",
      "Requirement already satisfied: typing-extensions in /Users/sherryblair/opt/anaconda3/lib/python3.8/site-packages (from ipython==8.12.3->pipreqs->pipreqsnb) (3.7.4.3)\n",
      "Requirement already satisfied: pexpect>4.3 in /Users/sherryblair/opt/anaconda3/lib/python3.8/site-packages (from ipython==8.12.3->pipreqs->pipreqsnb) (4.8.0)\n",
      "Requirement already satisfied: appnope in /Users/sherryblair/opt/anaconda3/lib/python3.8/site-packages (from ipython==8.12.3->pipreqs->pipreqsnb) (0.1.2)\n",
      "Requirement already satisfied: requests in /Users/sherryblair/opt/anaconda3/lib/python3.8/site-packages (from yarg==0.1.9->pipreqs->pipreqsnb) (2.29.0)\n",
      "Requirement already satisfied: beautifulsoup4 in /Users/sherryblair/opt/anaconda3/lib/python3.8/site-packages (from nbconvert<8.0.0,>=7.11.0->pipreqs->pipreqsnb) (4.12.2)\n",
      "Requirement already satisfied: bleach!=5.0.0 in /Users/sherryblair/opt/anaconda3/lib/python3.8/site-packages (from nbconvert<8.0.0,>=7.11.0->pipreqs->pipreqsnb) (4.1.0)\n",
      "Requirement already satisfied: defusedxml in /Users/sherryblair/opt/anaconda3/lib/python3.8/site-packages (from nbconvert<8.0.0,>=7.11.0->pipreqs->pipreqsnb) (0.7.1)\n",
      "Requirement already satisfied: importlib-metadata>=3.6 in /Users/sherryblair/opt/anaconda3/lib/python3.8/site-packages (from nbconvert<8.0.0,>=7.11.0->pipreqs->pipreqsnb) (6.0.0)\n",
      "Requirement already satisfied: jinja2>=3.0 in /Users/sherryblair/opt/anaconda3/lib/python3.8/site-packages (from nbconvert<8.0.0,>=7.11.0->pipreqs->pipreqsnb) (3.1.2)\n",
      "Requirement already satisfied: jupyter-core>=4.7 in /Users/sherryblair/opt/anaconda3/lib/python3.8/site-packages (from nbconvert<8.0.0,>=7.11.0->pipreqs->pipreqsnb) (5.3.0)\n",
      "Requirement already satisfied: jupyterlab-pygments in /Users/sherryblair/opt/anaconda3/lib/python3.8/site-packages (from nbconvert<8.0.0,>=7.11.0->pipreqs->pipreqsnb) (0.1.2)\n",
      "Requirement already satisfied: markupsafe>=2.0 in /Users/sherryblair/opt/anaconda3/lib/python3.8/site-packages (from nbconvert<8.0.0,>=7.11.0->pipreqs->pipreqsnb) (2.1.1)\n",
      "Requirement already satisfied: mistune<4,>=2.0.3 in /Users/sherryblair/opt/anaconda3/lib/python3.8/site-packages (from nbconvert<8.0.0,>=7.11.0->pipreqs->pipreqsnb) (3.0.2)\n",
      "Requirement already satisfied: nbclient>=0.5.0 in /Users/sherryblair/opt/anaconda3/lib/python3.8/site-packages (from nbconvert<8.0.0,>=7.11.0->pipreqs->pipreqsnb) (0.5.13)\n",
      "Requirement already satisfied: nbformat>=5.7 in /Users/sherryblair/opt/anaconda3/lib/python3.8/site-packages (from nbconvert<8.0.0,>=7.11.0->pipreqs->pipreqsnb) (5.7.0)\n",
      "Requirement already satisfied: packaging in /Users/sherryblair/opt/anaconda3/lib/python3.8/site-packages (from nbconvert<8.0.0,>=7.11.0->pipreqs->pipreqsnb) (23.2)\n",
      "Requirement already satisfied: pandocfilters>=1.4.1 in /Users/sherryblair/opt/anaconda3/lib/python3.8/site-packages (from nbconvert<8.0.0,>=7.11.0->pipreqs->pipreqsnb) (1.5.0)\n",
      "Requirement already satisfied: tinycss2 in /Users/sherryblair/opt/anaconda3/lib/python3.8/site-packages (from nbconvert<8.0.0,>=7.11.0->pipreqs->pipreqsnb) (1.2.1)\n",
      "Requirement already satisfied: six>=1.9.0 in /Users/sherryblair/opt/anaconda3/lib/python3.8/site-packages (from bleach!=5.0.0->nbconvert<8.0.0,>=7.11.0->pipreqs->pipreqsnb) (1.15.0)\n",
      "Requirement already satisfied: webencodings in /Users/sherryblair/opt/anaconda3/lib/python3.8/site-packages (from bleach!=5.0.0->nbconvert<8.0.0,>=7.11.0->pipreqs->pipreqsnb) (0.5.1)\n",
      "Requirement already satisfied: zipp>=0.5 in /Users/sherryblair/opt/anaconda3/lib/python3.8/site-packages (from importlib-metadata>=3.6->nbconvert<8.0.0,>=7.11.0->pipreqs->pipreqsnb) (3.11.0)\n",
      "Requirement already satisfied: parso<0.8.0,>=0.7.0 in /Users/sherryblair/opt/anaconda3/lib/python3.8/site-packages (from jedi>=0.16->ipython==8.12.3->pipreqs->pipreqsnb) (0.7.0)\n",
      "Requirement already satisfied: platformdirs>=2.5 in /Users/sherryblair/opt/anaconda3/lib/python3.8/site-packages (from jupyter-core>=4.7->nbconvert<8.0.0,>=7.11.0->pipreqs->pipreqsnb) (2.5.2)\n",
      "Requirement already satisfied: jupyter-client>=6.1.5 in /Users/sherryblair/opt/anaconda3/lib/python3.8/site-packages (from nbclient>=0.5.0->nbconvert<8.0.0,>=7.11.0->pipreqs->pipreqsnb) (8.1.0)\n",
      "Requirement already satisfied: nest-asyncio in /Users/sherryblair/opt/anaconda3/lib/python3.8/site-packages (from nbclient>=0.5.0->nbconvert<8.0.0,>=7.11.0->pipreqs->pipreqsnb) (1.5.6)\n",
      "Requirement already satisfied: fastjsonschema in /Users/sherryblair/opt/anaconda3/lib/python3.8/site-packages (from nbformat>=5.7->nbconvert<8.0.0,>=7.11.0->pipreqs->pipreqsnb) (2.16.2)\n",
      "Requirement already satisfied: jsonschema>=2.6 in /Users/sherryblair/opt/anaconda3/lib/python3.8/site-packages (from nbformat>=5.7->nbconvert<8.0.0,>=7.11.0->pipreqs->pipreqsnb) (4.17.3)\n",
      "Requirement already satisfied: ptyprocess>=0.5 in /Users/sherryblair/opt/anaconda3/lib/python3.8/site-packages (from pexpect>4.3->ipython==8.12.3->pipreqs->pipreqsnb) (0.7.0)\n",
      "Requirement already satisfied: wcwidth in /Users/sherryblair/opt/anaconda3/lib/python3.8/site-packages (from prompt-toolkit!=3.0.37,<3.1.0,>=3.0.30->ipython==8.12.3->pipreqs->pipreqsnb) (0.2.5)\n",
      "Requirement already satisfied: soupsieve>1.2 in /Users/sherryblair/opt/anaconda3/lib/python3.8/site-packages (from beautifulsoup4->nbconvert<8.0.0,>=7.11.0->pipreqs->pipreqsnb) (2.4)\n",
      "Requirement already satisfied: charset-normalizer<4,>=2 in /Users/sherryblair/opt/anaconda3/lib/python3.8/site-packages (from requests->yarg==0.1.9->pipreqs->pipreqsnb) (2.0.4)\n",
      "Requirement already satisfied: idna<4,>=2.5 in /Users/sherryblair/opt/anaconda3/lib/python3.8/site-packages (from requests->yarg==0.1.9->pipreqs->pipreqsnb) (3.4)\n",
      "Requirement already satisfied: urllib3<1.27,>=1.21.1 in /Users/sherryblair/opt/anaconda3/lib/python3.8/site-packages (from requests->yarg==0.1.9->pipreqs->pipreqsnb) (1.26.15)\n",
      "Requirement already satisfied: certifi>=2017.4.17 in /Users/sherryblair/opt/anaconda3/lib/python3.8/site-packages (from requests->yarg==0.1.9->pipreqs->pipreqsnb) (2023.5.7)\n",
      "Requirement already satisfied: executing in /Users/sherryblair/opt/anaconda3/lib/python3.8/site-packages (from stack-data->ipython==8.12.3->pipreqs->pipreqsnb) (0.8.3)\n",
      "Requirement already satisfied: asttokens in /Users/sherryblair/opt/anaconda3/lib/python3.8/site-packages (from stack-data->ipython==8.12.3->pipreqs->pipreqsnb) (2.0.5)\n",
      "Requirement already satisfied: pure-eval in /Users/sherryblair/opt/anaconda3/lib/python3.8/site-packages (from stack-data->ipython==8.12.3->pipreqs->pipreqsnb) (0.2.2)\n"
     ]
    },
    {
     "name": "stdout",
     "output_type": "stream",
     "text": [
      "Requirement already satisfied: attrs>=17.4.0 in /Users/sherryblair/opt/anaconda3/lib/python3.8/site-packages (from jsonschema>=2.6->nbformat>=5.7->nbconvert<8.0.0,>=7.11.0->pipreqs->pipreqsnb) (22.1.0)\n",
      "Requirement already satisfied: importlib-resources>=1.4.0 in /Users/sherryblair/opt/anaconda3/lib/python3.8/site-packages (from jsonschema>=2.6->nbformat>=5.7->nbconvert<8.0.0,>=7.11.0->pipreqs->pipreqsnb) (5.2.0)\n",
      "Requirement already satisfied: pkgutil-resolve-name>=1.3.10 in /Users/sherryblair/opt/anaconda3/lib/python3.8/site-packages (from jsonschema>=2.6->nbformat>=5.7->nbconvert<8.0.0,>=7.11.0->pipreqs->pipreqsnb) (1.3.10)\n",
      "Requirement already satisfied: pyrsistent!=0.17.0,!=0.17.1,!=0.17.2,>=0.14.0 in /Users/sherryblair/opt/anaconda3/lib/python3.8/site-packages (from jsonschema>=2.6->nbformat>=5.7->nbconvert<8.0.0,>=7.11.0->pipreqs->pipreqsnb) (0.18.0)\n",
      "Requirement already satisfied: python-dateutil>=2.8.2 in /Users/sherryblair/opt/anaconda3/lib/python3.8/site-packages (from jupyter-client>=6.1.5->nbclient>=0.5.0->nbconvert<8.0.0,>=7.11.0->pipreqs->pipreqsnb) (2.8.2)\n",
      "Requirement already satisfied: pyzmq>=23.0 in /Users/sherryblair/opt/anaconda3/lib/python3.8/site-packages (from jupyter-client>=6.1.5->nbclient>=0.5.0->nbconvert<8.0.0,>=7.11.0->pipreqs->pipreqsnb) (25.0.2)\n",
      "Requirement already satisfied: tornado>=6.2 in /Users/sherryblair/opt/anaconda3/lib/python3.8/site-packages (from jupyter-client>=6.1.5->nbclient>=0.5.0->nbconvert<8.0.0,>=7.11.0->pipreqs->pipreqsnb) (6.2)\n"
     ]
    }
   ],
   "source": [
    "!pip install pipreqsnb # this is needed to create the requirements.txt file"
   ]
  },
  {
   "cell_type": "code",
   "execution_count": 6,
   "id": "151fe5d2",
   "metadata": {},
   "outputs": [
    {
     "name": "stdout",
     "output_type": "stream",
     "text": [
      "pipreqs  --ignore bin,etc,include,lib,lib64 .\n",
      "INFO: Not scanning for jupyter notebooks.\n",
      "WARNING: requirements.txt already exists, use --force to overwrite it\n"
     ]
    }
   ],
   "source": [
    "!pipreqsnb . --ignore bin,etc,include,lib,lib64 #--force # this command creates the requirements.txt file"
   ]
  },
  {
   "cell_type": "code",
   "execution_count": 7,
   "id": "675298a9",
   "metadata": {},
   "outputs": [
    {
     "name": "stdout",
     "output_type": "stream",
     "text": [
      "Collecting joblib==1.3.2 (from -r requirements.txt (line 1))\n",
      "  Downloading joblib-1.3.2-py3-none-any.whl.metadata (5.4 kB)\n",
      "\u001b[31mERROR: Ignored the following versions that require a different python version: 3.8.0 Requires-Python >=3.9; 3.8.0rc1 Requires-Python >=3.9; 3.8.1 Requires-Python >=3.9; 3.8.2 Requires-Python >=3.9; 3.8.3 Requires-Python >=3.9; 3.8.4 Requires-Python >=3.9; 3.9.0rc2 Requires-Python >=3.9\u001b[0m\u001b[31m\n",
      "\u001b[0m\u001b[31mERROR: Could not find a version that satisfies the requirement matplotlib==3.8.4 (from versions: 0.86, 0.86.1, 0.86.2, 0.91.0, 0.91.1, 1.0.1, 1.1.0, 1.1.1, 1.2.0, 1.2.1, 1.3.0, 1.3.1, 1.4.0, 1.4.1rc1, 1.4.1, 1.4.2, 1.4.3, 1.5.0, 1.5.1, 1.5.2, 1.5.3, 2.0.0b1, 2.0.0b2, 2.0.0b3, 2.0.0b4, 2.0.0rc1, 2.0.0rc2, 2.0.0, 2.0.1, 2.0.2, 2.1.0rc1, 2.1.0, 2.1.1, 2.1.2, 2.2.0rc1, 2.2.0, 2.2.2, 2.2.3, 2.2.4, 2.2.5, 3.0.0rc2, 3.0.0, 3.0.1, 3.0.2, 3.0.3, 3.1.0rc1, 3.1.0rc2, 3.1.0, 3.1.1, 3.1.2, 3.1.3, 3.2.0rc1, 3.2.0rc3, 3.2.0, 3.2.1, 3.2.2, 3.3.0rc1, 3.3.0, 3.3.1, 3.3.2, 3.3.3, 3.3.4, 3.4.0rc1, 3.4.0rc2, 3.4.0rc3, 3.4.0, 3.4.1, 3.4.2, 3.4.3, 3.5.0b1, 3.5.0rc1, 3.5.0, 3.5.1, 3.5.2, 3.5.3, 3.6.0rc1, 3.6.0rc2, 3.6.0, 3.6.1, 3.6.2, 3.6.3, 3.7.0rc1, 3.7.0, 3.7.1, 3.7.2, 3.7.3, 3.7.4, 3.7.5)\u001b[0m\u001b[31m\n",
      "\u001b[0m\u001b[31mERROR: No matching distribution found for matplotlib==3.8.4\u001b[0m\u001b[31m\n",
      "\u001b[0m"
     ]
    }
   ],
   "source": [
    "!pip install -r requirements.txt # this command installs the dependencies contained in the requirements.txt file"
   ]
  },
  {
   "cell_type": "markdown",
   "id": "68061b5a",
   "metadata": {},
   "source": [
    "# GKP states from vacuum\n",
    "\n",
    "## Goal\n",
    "\n",
    "We want to find circuits that map the vacuum to an approximate GKP state.\n",
    "\n",
    "## Strategy\n",
    "\n",
    "We can turn the optimization problem around: instead of starting from the vacuum and trying to unitarily drive it to the target state, we can start from the target state and try to find the unitary transformation $U(\\vec{\\lambda})$ that maximizes\n",
    "\n",
    "$$\\left|\\left<0\\right| U(\\vec{\\lambda})\\left|\\Psi_t \\right>\\right|^2.$$ \n",
    "\n",
    " \n",
    "Our generated state, \n",
    "\n",
    "$$ \\left|\\Psi_g \\right> = U(\\vec{\\lambda})^\\dagger\\left|0 \\right> ,$$ \n",
    "\n",
    "is a good approximation of the target state when the fidelity,\n",
    "\n",
    "$$ F = \\left|\\left<\\Psi_g |\\Psi_t \\right>\\right|^2 ,$$\n",
    "\n",
    "is maximized."
   ]
  },
  {
   "cell_type": "markdown",
   "id": "f66df4ad",
   "metadata": {},
   "source": [
    "## Code"
   ]
  },
  {
   "cell_type": "code",
   "execution_count": 4,
   "id": "4d76fd0d",
   "metadata": {},
   "outputs": [
    {
     "name": "stderr",
     "output_type": "stream",
     "text": [
      "/Users/sherryblair/opt/anaconda3/lib/python3.8/site-packages/scipy/__init__.py:146: UserWarning: A NumPy version >=1.16.5 and <1.23.0 is required for this version of SciPy (detected version 1.23.5\n",
      "  warnings.warn(f\"A NumPy version >={np_minversion} and <{np_maxversion}\"\n"
     ]
    }
   ],
   "source": [
    "# Importing necessary libraries\n",
    "import strawberryfields as sf\n",
    "sf.hbar = 1 # Setting convention for hbar\n",
    "import numpy as np\n",
    "import scipy\n",
    "import matplotlib.pyplot as plt\n",
    "from joblib import Parallel, delayed"
   ]
  },
  {
   "cell_type": "code",
   "execution_count": 2,
   "id": "f2cb5b73",
   "metadata": {},
   "outputs": [],
   "source": [
    "# Setting parameters\n",
    "\n",
    "cutoff = 10 # Truncation of the Fock space\n",
    "delta = 0.5 # Inverse width of Gaussian envelope\n",
    "\n",
    "epsilon = delta**2 \n",
    "# Strawberry Fields parameter epsilon which defines the Gaussian envelope in sf.ops.GKP\n",
    "\n",
    "num_blocks = 6 # Number of repeated blocks of gates in circuit\n",
    "num_trials = 2 # Number of repeated optimization trials\n",
    "n_jobs = 2 # For parallelisation - best if this is a factor of num_trials\n"
   ]
  },
  {
   "cell_type": "code",
   "execution_count": 3,
   "id": "299f64aa",
   "metadata": {},
   "outputs": [],
   "source": [
    "# Define a function for the action of the circuit on the input GKP state\n",
    "\n",
    "def cooled_squared_vac_overlap(params, epsilon=epsilon, state = [0,0]): # note: state = [0,0] is |0>, [np.pi,0] is |1>\n",
    "    '''\n",
    "    Return the squared overlap with vacuum of the state resulting from application of \n",
    "    the parametrized circuit to the (given) approximate GKP state of given epsilon.\n",
    "\n",
    "    The parametrized circuit consists of len(params)//4 blocks composed of:\n",
    "        - 2 orthogonal displacements\n",
    "        - one Kerr gate\n",
    "        - one squeezing gate (with real squeezing parameter).\n",
    "\n",
    "    The number of blocks is guessed from the size of the input parameters, assumed to be a multiple of 4.\n",
    "    '''\n",
    "    # Initialize Strawberry Fields program\n",
    "    prog = sf.Program(1) # Photonic circuit with one mode\n",
    "    with prog.context as q: \n",
    "        # Initialize state to be cooled down (target)\n",
    "        sf.ops.GKP(epsilon=epsilon, state=state) | q \n",
    "\n",
    "        # Apply gates according to input parameters\n",
    "        # Parameters are real numbers\n",
    "        # The number of parameters is always a multiple of 4, since there are 4 parameters per block\n",
    "        for j in range(len(params)//4):\n",
    "            sf.ops.Xgate(params[4*j]) | q\n",
    "            sf.ops.Zgate(params[4*j+1]) | q\n",
    "            sf.ops.Kgate(params[4*j+2]) | q\n",
    "            sf.ops.Sgate(params[4*j+3]/10.) | q\n",
    "            # Squeezing is more sensitive to parameter shifts, so we compensate by dividing by a factor of 10\n",
    "\n",
    "    # Initialize engine, selecting Fock backend\n",
    "    eng = sf.Engine(\"fock\", backend_options={\"cutoff_dim\": cutoff}) \n",
    "\n",
    "    # Execute program on engine\n",
    "    cooled_state = eng.run(prog,shots=1).state # output state of parametrized circuit\n",
    "    \n",
    "    # Return fidelity with vacuum (negative for minimization later)\n",
    "    return -cooled_state.fock_prob([0])"
   ]
  },
  {
   "cell_type": "code",
   "execution_count": 4,
   "id": "6612f80a",
   "metadata": {
    "scrolled": false
   },
   "outputs": [
    {
     "name": "stderr",
     "output_type": "stream",
     "text": [
      "2024-04-04 16:11:24.357034: I tensorflow/core/platform/cpu_feature_guard.cc:193] This TensorFlow binary is optimized with oneAPI Deep Neural Network Library (oneDNN) to use the following CPU instructions in performance-critical operations:  SSE4.1 SSE4.2 AVX AVX2 AVX512F AVX512_VNNI FMA\n",
      "To enable them in other operations, rebuild TensorFlow with the appropriate compiler flags.\n",
      "2024-04-04 16:11:24.357032: I tensorflow/core/platform/cpu_feature_guard.cc:193] This TensorFlow binary is optimized with oneAPI Deep Neural Network Library (oneDNN) to use the following CPU instructions in performance-critical operations:  SSE4.1 SSE4.2 AVX AVX2 AVX512F AVX512_VNNI FMA\n",
      "To enable them in other operations, rebuild TensorFlow with the appropriate compiler flags.\n",
      "2024-04-04 16:11:24.416874: I tensorflow/core/util/port.cc:104] oneDNN custom operations are on. You may see slightly different numerical results due to floating-point round-off errors from different computation orders. To turn them off, set the environment variable `TF_ENABLE_ONEDNN_OPTS=0`.\n",
      "2024-04-04 16:11:24.416873: I tensorflow/core/util/port.cc:104] oneDNN custom operations are on. You may see slightly different numerical results due to floating-point round-off errors from different computation orders. To turn them off, set the environment variable `TF_ENABLE_ONEDNN_OPTS=0`.\n"
     ]
    },
    {
     "name": "stdout",
     "output_type": "stream",
     "text": [
      "Fidelities =  [0.9895901927957078 0.927370133594852]\n",
      "Best fidelity =  0.9895901927957078\n",
      "Best gate parameters =  [ 9.82380299e-02  2.65511188e-01 -9.77352200e-02 -3.58372601e-01\n",
      "  1.35651110e-01 -3.23160948e-02 -4.05811537e-03 -4.87034169e-01\n",
      "  1.60257605e-01 -5.09581961e-02  3.33553306e-01  1.40566833e+00\n",
      "  4.68189743e-02  2.27117684e-01  3.06671873e-01  2.08769397e+00\n",
      " -1.57520709e-01  3.43451105e-02  7.23867532e-01  3.34632729e+00\n",
      "  1.16419860e-01 -5.56018330e-01 -9.49147705e-02  5.51691197e+00]\n"
     ]
    },
    {
     "name": "stderr",
     "output_type": "stream",
     "text": [
      "/tmp/ipykernel_28236/3182694351.py:26: VisibleDeprecationWarning: Creating an ndarray from ragged nested sequences (which is a list-or-tuple of lists-or-tuples-or ndarrays with different lengths or shapes) is deprecated. If you meant to do this, you must specify 'dtype=object' when creating the ndarray.\n"
     ]
    }
   ],
   "source": [
    "# Parallel trials for optimizing the gate parameters to maximize fidelity:\n",
    "\n",
    "def OptimizeCircuit(trial_num):\n",
    "    \"\"\"\n",
    "    Optimize gate parameters and maximize fidelity.\n",
    "\n",
    "    Parameters:\n",
    "    - trial_num (int): The index of the current trial.\n",
    "\n",
    "    Returns:\n",
    "    tuple: A tuple containing the fidelity with vacuum and the optimized gate parameters.\n",
    "\n",
    "    Note:\n",
    "    - The gate parameters are initialized with random values between 0 and 0.1.\n",
    "    - The BFGS method is employed for optimization with a specified tolerance.\n",
    "    \"\"\"\n",
    "    sf.hbar = 1\n",
    "    result = scipy.optimize.minimize(cooled_squared_vac_overlap, 0.1*np.random.rand(num_blocks*4), method=\"BFGS\", tol=1e-7)\n",
    "    return -result['fun'], result['x'] \n",
    "    # 'fun' is the function being minimized, i.e. negative of fidelity\n",
    "    # Extra minus sign ensures that the positive fidelity is returned\n",
    "    # 'x' is the gate parameters\n",
    "\n",
    "# Perform parallel optimization trials\n",
    "FidsSols = Parallel(n_jobs=n_jobs)(delayed(OptimizeCircuit)(trial_num) for trial_num in range(num_trials))\n",
    "FSarray=np.array(FidsSols) # Fidelities and solutions (gate parameters in circuit)\n",
    "Fids=FSarray[:,0]\n",
    "print('Fidelities = ',Fids) # Fidelities\n",
    "bestFid=np.max(Fids) # Highest fidelity\n",
    "print('Best fidelity = ',bestFid)\n",
    "IndexOfMaxFid=np.argmax(Fids)\n",
    "Sols=FSarray[:,1] # Gate parameters\n",
    "bestSolution=Sols[IndexOfMaxFid]\n",
    "# Best gate parameters, i.e. those that lead to the highest fidelity:\n",
    "print('Best gate parameters = ',bestSolution) \n",
    "# Save the best parameters\n",
    "np.savetxt('BestSol.out',bestSolution)"
   ]
  },
  {
   "cell_type": "markdown",
   "id": "41ff2fb7",
   "metadata": {},
   "source": [
    "### Check that the circuit prepares a GKP state\n",
    "\n",
    "We now prepare the states from vacuum, by applying the adjoints of the optimized circuits found above. We check their fidelity with the target GKP state.  \n",
    " "
   ]
  },
  {
   "cell_type": "code",
   "execution_count": 5,
   "id": "e3730a75",
   "metadata": {},
   "outputs": [
    {
     "name": "stdout",
     "output_type": "stream",
     "text": [
      "[ 8.57088484e-01+0.j  1.34883446e-21+0.j -3.33213282e-01+0.j\n",
      "  2.66963587e-19+0.j  3.08244043e-01+0.j -7.22461605e-19+0.j\n",
      "  9.28254283e-02+0.j  3.03620218e-18+0.j  2.25249392e-01+0.j\n",
      " -1.41005731e-18+0.j]\n"
     ]
    }
   ],
   "source": [
    "def prepare_state(params):\n",
    "    \"\"\"\n",
    "    Return the quantum state resulting from the application of the parametrized circuit *in reverse* to the vacuum.\n",
    "\n",
    "    Parameters:\n",
    "    - params (array): An array of real numbers representing the parameters for the gates of the circuit.\n",
    "\n",
    "    Returns:\n",
    "    BaseFockState: The output quantum state, in the Fock basis.\n",
    "    \"\"\"\n",
    "    progParamState = sf.Program(1) # Photonic circuit with one mode\n",
    "    with progParamState.context as q: \n",
    "        sf.ops.Vacuum() | q # Initialize vacuum\n",
    "        rev_pars = np.flip(params) # Reverse the order of the gate parameters\n",
    "        for j in range(len(params)//4): # Circuit in reverse:\n",
    "            sf.ops.Sgate(-rev_pars[4*j]/10.) | q \n",
    "            sf.ops.Kgate(-rev_pars[4*j+1]) | q\n",
    "            sf.ops.Zgate(-rev_pars[4*j+2]) | q\n",
    "            sf.ops.Xgate(-rev_pars[4*j+3]) | q\n",
    "    \n",
    "    # Initialize engine, selecting Fock backend\n",
    "    eng = sf.Engine(\"fock\", backend_options={\"cutoff_dim\": cutoff})\n",
    "\n",
    "    # Output state of parametrized circuit\n",
    "    prepared_state = eng.run(progParamState,shots=1).state \n",
    "\n",
    "    return prepared_state\n",
    "\n",
    "# A program to prepare the target state, so that we can compare with our generated state\n",
    "progTarget= sf.Program(1) # Photonic circuit with one mode\n",
    "with progTarget.context as q: \n",
    "    # Initialize target state\n",
    "    # NB this has to match the state used in the previous optimization\n",
    "    sf.ops.GKP( epsilon=epsilon, state=[0,0]) | q \n",
    "    \n",
    "eng = sf.Engine(\"fock\", backend_options={\"cutoff_dim\": cutoff}) # Initialize engine, selecting Fock backend\n",
    "target_GKP = eng.run(progTarget,shots=1).state.ket() # Our target state\n",
    "np.savetxt('TargetStateKet.out', target_GKP) # Save the Fock amplitudes of the target state\n",
    "print(target_GKP)"
   ]
  },
  {
   "cell_type": "code",
   "execution_count": 6,
   "id": "ed49d995",
   "metadata": {},
   "outputs": [
    {
     "name": "stdout",
     "output_type": "stream",
     "text": [
      "Fidelity (abs squared overlap) with 6 parametrized blocks: 0.9895901927957076\n",
      "The fidelity above should match (or be very close to) the best fidelity from optimization: 0.9895901927957078\n",
      "This should be one if the state we prepared is normalized: (0.9944578498244767+0j)\n",
      "This should be one if the target GKP state is normalized: (1.0000000000000002+0j)\n"
     ]
    }
   ],
   "source": [
    "# Reset engine \n",
    "if eng.run_progs:\n",
    "    eng.reset()\n",
    "\n",
    "# Use best parameters to prepare generated state from vacuum\n",
    "generated_GKP = prepare_state(bestSolution).ket()\n",
    "np.savetxt('GeneratedStateKet.out',generated_GKP)\n",
    "\n",
    "# Calculate fidelity between generated state and target state\n",
    "fid=np.abs(np.dot(generated_GKP.conj(), target_GKP))**2\n",
    "print(f'Fidelity (abs squared overlap) with {len(bestSolution)//4} parametrized blocks: {fid}')\n",
    "\n",
    "print(f'The fidelity above should match (or be very close to) the best fidelity from optimization: {bestFid}')\n",
    "\n",
    "# Check normalization of target and generated state to ensure no leakage to Fock components higher than the cutoff\n",
    "normgen=np.dot(generated_GKP.conj(), generated_GKP)\n",
    "normtarg=np.dot(target_GKP.conj(), target_GKP)\n",
    "print(f'This should be one if the state we prepared is normalized: {normgen}')\n",
    "print(f'This should be one if the target GKP state is normalized: {normtarg}')"
   ]
  },
  {
   "cell_type": "markdown",
   "id": "e2bd4000",
   "metadata": {},
   "source": [
    "### Wavefunction of target and generated states\n",
    "\n",
    "We find the wavefunction in position, \n",
    "$$\\Psi(q)=\\left< q \\,|\\, \\Psi_g \\right>=\\sum_n \\left< q\\,|\\,n \\right>\\left< n\\,|\\,\\Psi_g \\right>,$$ \n",
    "from the Fock amplitudes of our generated state, $\\left< n\\,|\\,\\Psi_g \\right>$. Here $\\left< q \\,|\\, n \\right>$ are Hermite functions,\n",
    "$$\\left< q \\,|\\, n \\right> = \\frac{e^{-\\frac{1}{2}q^2}H_n(q)}{\\sqrt{n!\\,2^n\\sqrt{\\pi}}} ,$$\n",
    "and $H_n(q)$ are Hermite polynomials.\n"
   ]
  },
  {
   "cell_type": "markdown",
   "id": "e58af212",
   "metadata": {},
   "source": [
    "We calculate $\\frac{1}{\\sqrt{2^n}}$ via recurrence relation:"
   ]
  },
  {
   "cell_type": "code",
   "execution_count": 7,
   "id": "88201190",
   "metadata": {},
   "outputs": [],
   "source": [
    "def f(n):\n",
    "    \"\"\"\n",
    "    Recursively calculates the value of f(n) = 1/sqrt(2**n).\n",
    "\n",
    "    Parameters:\n",
    "    - n (int): The input integer.\n",
    "\n",
    "    Returns:\n",
    "    float: The calculated value of f(n).\n",
    "    \"\"\"\n",
    "    if n==0:\n",
    "        return 1\n",
    "    \n",
    "    else:\n",
    "        return (1/np.sqrt(2))*f(n-1)"
   ]
  },
  {
   "cell_type": "markdown",
   "id": "a57b529c",
   "metadata": {},
   "source": [
    "We can also calculate $\\sqrt{n!}$ recursively, by defining\n",
    "$\\\\\n",
    "g(n)=0 \\;\\; \\text{for} \\;\\; n=0$  \n",
    "$g(n)=\\sum_n \\ln(n) \\;\\; \\text{for} \\;\\; 1\\leq n \\leq \\mathrm{cutoff}$.\n",
    "\n",
    "Then $\\exp(g(n)/2)=\\sqrt{n!}$ ."
   ]
  },
  {
   "cell_type": "code",
   "execution_count": 8,
   "id": "bcd8721f",
   "metadata": {},
   "outputs": [],
   "source": [
    "def g(n):\n",
    "    \"\"\"\n",
    "    Recursively calculates the value of g(n)=ln(n!), so that exp(g(n)/2)=sqrt(n!).\n",
    "\n",
    "    Parameters:\n",
    "    - n (int): The input integer.\n",
    "\n",
    "    Returns:\n",
    "    float: The calculated value of g(n).\n",
    "    \"\"\"\n",
    "    if n==0:    \n",
    "        return 0\n",
    "    \n",
    "    else:\n",
    "        return g(n-1)+np.log(n)"
   ]
  },
  {
   "cell_type": "markdown",
   "id": "c20e26f7",
   "metadata": {},
   "source": [
    "We can then calculate the wavefunction using $f(n)$ and $g(n)$:"
   ]
  },
  {
   "cell_type": "code",
   "execution_count": 9,
   "id": "ee4b6329",
   "metadata": {},
   "outputs": [],
   "source": [
    "def wavefunction(q, ket):\n",
    "    \"\"\"\n",
    "    Compute the wavefunction in position space from the quantum state vector in the Fock basis.\n",
    "\n",
    "    Parameters:\n",
    "    - q (array): An array of position values.\n",
    "    - ket (array): Fock-basis representation of the quantum state.\n",
    "\n",
    "    Returns:\n",
    "    array: Wavefunction in position basis.\n",
    "    \"\"\"\n",
    "    c = ket.shape[0]\n",
    "    coefficients=np.zeros(c,dtype=complex)\n",
    "\n",
    "    # Calculating the coefficients (that depend on n) of each Hermite polynomial\n",
    "    # i.e. coefficients[n] = <n|Psi_g>(n! 2**n)**(-1/2)\n",
    "    for n in range(0,c):\n",
    "        coefficients[n] = ket[n]*f(n)*np.exp(-g(n)/2)\n",
    "\n",
    "    # Calculating the wavefunction, Psi(q):\n",
    "    y = np.exp(-q ** 2 / 2)*np.pi**(-1/4) * np.polynomial.hermite.hermval(q, coefficients)\n",
    "    \n",
    "    return y"
   ]
  },
  {
   "cell_type": "code",
   "execution_count": 10,
   "id": "77f5e773",
   "metadata": {},
   "outputs": [
    {
     "name": "stderr",
     "output_type": "stream",
     "text": [
      "/home/frarzani/anaconda3/envs/xanadu/lib/python3.10/site-packages/matplotlib/cbook/__init__.py:1298: ComplexWarning: Casting complex values to real discards the imaginary part\n",
      "/home/frarzani/anaconda3/envs/xanadu/lib/python3.10/site-packages/matplotlib/cbook/__init__.py:1298: ComplexWarning: Casting complex values to real discards the imaginary part\n"
     ]
    },
    {
     "data": {
      "text/plain": [
       "Text(0.5, 0, '$q$')"
      ]
     },
     "execution_count": 10,
     "metadata": {},
     "output_type": "execute_result"
    },
    {
     "data": {
      "image/png": "[encoded data removed]",
      "text/plain": [
       "<Figure size 432x288 with 1 Axes>"
      ]
     },
     "metadata": {
      "needs_background": "light"
     },
     "output_type": "display_data"
    }
   ],
   "source": [
    "# Plot probability distribution of generated and target GKP states\n",
    "\n",
    "qlim=20 # q-axis goes from -qlim to +qlim\n",
    "genGKPwf=wavefunction(q=np.linspace(-qlim,qlim,1000), ket=generated_GKP)\n",
    "targetGKPwf=wavefunction(q=np.linspace(-qlim,qlim,1000), ket=target_GKP)\n",
    "plt.plot(np.linspace(-qlim,qlim,1000),genGKPwf*genGKPwf.conj(),label='generated',linestyle='dotted',color='b',linewidth=2)\n",
    "plt.plot(np.linspace(-qlim,qlim,1000),targetGKPwf*targetGKPwf.conj(),label='target',color='r',linewidth=0.8)\n",
    "plt.legend()\n",
    "plt.ylabel(\"$|\\psi(q)|^2$\")\n",
    "plt.xlabel(\"$q$\")\n",
    "#plt.savefig('ProbDists.png', bbox_inches='tight')"
   ]
  },
  {
   "cell_type": "markdown",
   "id": "1e435166",
   "metadata": {},
   "source": [
    "### Glancy-Knill error probability\n",
    "\n",
    "Calculating the probability of no uncorrectable errors, $P(\\text{no error})$, \\\n",
    "from Glancy & Knill (https://journals.aps.org/pra/abstract/10.1103/PhysRevA.73.012325), \\\n",
    "using Eq.(71) from Tzitrin et al. (https://journals.aps.org/pra/abstract/10.1103/PhysRevA.101.032315).\n",
    "\n",
    "$$P(\\text{no error})=\\frac{1}{3}\\sum_{s,t}\\text{sinc}\\left(\\frac{t}{3}\\right)\\int_{\\sqrt{\\pi}\\left(2s-\\frac{1}{6}\\right)}^{\\sqrt{\\pi}\\left(2s+\\frac{1}{6}\\right)}du\\, \\Psi^*(2t\\sqrt{\\pi}+u)\\Psi(u),$$\n",
    "\n",
    "where $\\text{sinc}$ is the normalized function, $\\text{sinc}(x)=(\\sin{\\pi x})/(\\pi x)$. \n",
    "\n",
    "The error probability is then simply $P(\\text{error})=1-P(\\text{no error})$."
   ]
  },
  {
   "cell_type": "code",
   "execution_count": 11,
   "id": "7427dd54",
   "metadata": {},
   "outputs": [
    {
     "name": "stdout",
     "output_type": "stream",
     "text": [
      "P(error)= (0.706028255643629-1.0842021724855044e-19j)\n"
     ]
    }
   ],
   "source": [
    "n=30 # No. of strips in integration\n",
    "size=30 # Infinite sums over  s and t are truncated to go from -size to +size\n",
    "\n",
    "# Matrix to store values of P_{no error} for different values of s and t, before we take the sum\n",
    "beforesum = np.zeros((2*size,2*size),dtype=complex) \n",
    "    \n",
    "for t in range(-size,size):\n",
    "    for s in range(-size,size):\n",
    "        x=np.linspace((np.sqrt(np.pi))*(2*s-1/6),(np.sqrt(np.pi))*(2*s+1/6),n) # Position axis\n",
    "        \n",
    "        # Filling the matrix\n",
    "        beforesum[t+size,s+size] =(1/3)*np.sinc(t/3)*np.trapz(np.conj \\\n",
    "        (wavefunction(x+2*t*np.sqrt(np.pi),generated_GKP))*wavefunction(x,generated_GKP),x)\n",
    "            \n",
    "p_noerror=np.sum(np.sum(beforesum,axis=0),axis=0) # Summing over s and t\n",
    "p_error=1-p_noerror # Calculate error probability from no-error probability\n",
    "print(\"P(error)=\",p_error)"
   ]
  },
  {
   "cell_type": "markdown",
   "id": "3e7702d8",
   "metadata": {},
   "source": [
    "To achieve lower error probabilities, we need to decrease delta whilst maintaining a high fidelity."
   ]
  },
  {
   "cell_type": "code",
   "execution_count": null,
   "id": "938fe330",
   "metadata": {},
   "outputs": [],
   "source": []
  }
 ],
 "metadata": {
  "kernelspec": {
   "display_name": "Python 3 (ipykernel)",
   "language": "python",
   "name": "python3"
  },
  "language_info": {
   "codemirror_mode": {
    "name": "ipython",
    "version": 3
   },
   "file_extension": ".py",
   "mimetype": "text/x-python",
   "name": "python",
   "nbconvert_exporter": "python",
   "pygments_lexer": "ipython3",
   "version": "3.8.5"
  }
 },
 "nbformat": 4,
 "nbformat_minor": 5
}
